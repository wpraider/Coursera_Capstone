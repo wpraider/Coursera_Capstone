{
 "cells": [
  {
   "cell_type": "markdown",
   "metadata": {},
   "source": [
    "# Setting up a Retail Store in Nairobi, Kenya"
   ]
  },
  {
   "cell_type": "markdown",
   "metadata": {},
   "source": [
    "\n",
    "\n",
    "## Introduction:\n",
    "I am a paid consultant working for a venture capital firm in New York City. One of the owners has ties to Kenya and has procured a contract to open a retail store in Nairobi. It is my job to recommend a location to set up a store.\n",
    "\n",
    "## Business Problem:\n",
    "Choosing a location for a retail store involves factoring in many socio-economic variables. First off, the location has to include enough people to buy enough goods to pay for the costs of the operation. Moreover, the nearby population has to be large enough to make the investment of capital worthwhile, so the projected revenue must provide a large enough margin to fend off future competition. A second key factor in choosing a location is the presence, or lack thereof, of competition. If so, how many competitors are there, and is there enough local purchasing power to support all of us? Finally, a third key factor is the presence of similar stores. If there is already a group of stores selling products to our target population, then that will tell me the marketing of our operation will be easier and less costly becuase consumers are already present in the proposed location. \n",
    "\n",
    "## Data\n",
    "To properly address the above mentioned business problems, I will be leveraging data science techniques, such as clustering, to segment the city into smaller units, using longitude and latitude as the center of these clusters. I will then be mapping the geocoordiantes to a foursquare API, which will provide me with a list of nearby places and the distance to the center of each segemented cluster. Next, I will analyze the group of places nearby each cluster in order to gauge whether similar businesses already exist (and if so, how many) and/or if there is enough of a market to support the new venture. "
   ]
  },
  {
   "cell_type": "code",
   "execution_count": null,
   "metadata": {},
   "outputs": [],
   "source": []
  }
 ],
 "metadata": {
  "kernelspec": {
   "display_name": "Python 3",
   "language": "python",
   "name": "python3"
  },
  "language_info": {
   "codemirror_mode": {
    "name": "ipython",
    "version": 3
   },
   "file_extension": ".py",
   "mimetype": "text/x-python",
   "name": "python",
   "nbconvert_exporter": "python",
   "pygments_lexer": "ipython3",
   "version": "3.7.6"
  }
 },
 "nbformat": 4,
 "nbformat_minor": 4
}
